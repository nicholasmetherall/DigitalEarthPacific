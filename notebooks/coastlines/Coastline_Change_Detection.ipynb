{
 "cells": [
  {
   "cell_type": "markdown",
   "id": "1cdebd75-da26-42ef-a6ae-4dc9a7dea6c3",
   "metadata": {
    "tags": []
   },
   "source": [
    "<h1>Coastline change monitoring</h1>"
   ]
  },
  {
   "cell_type": "markdown",
   "id": "62101d5f-106a-4082-9b0c-fae6d225d981",
   "metadata": {},
   "source": [
    "<h5>Advice from Sachin Singh and Robbi Bishop-Taylor</h5>"
   ]
  },
  {
   "cell_type": "markdown",
   "id": "e2304284-369b-4559-a390-0127c3365a2f",
   "metadata": {},
   "source": [
    "<h1>Notes</h1>\n",
    "\n",
    "A simplified version of the DEA Coastlines method that combines data from the Landsat 5, 7 and 8 satellites with image compositing and tide filtering techniques to accurately map shorelines across time and identify areas that have changed significantly between 1988 and 2018. This example demonstrates how to: \n",
    "1. Load cloud-free Landsat time series data\n",
    "2. Compute a water index (MNDWI)\n",
    "3. Filter images by tide height\n",
    "4. Create “summary” or composite images for given time periods\n",
    "5. Extract and visualise shorelines across time\n",
    "\n",
    "\n",
    "\n",
    "\n"
   ]
  },
  {
   "cell_type": "markdown",
   "id": "6d05c9c7-af37-4c5e-883f-d7900fd2b8a5",
   "metadata": {},
   "source": [
    "<h4>STEP 1 - Load python packages</h4>\n"
   ]
  },
  {
   "cell_type": "code",
   "execution_count": 2,
   "id": "53bd7e36-f2d7-42e5-89c2-6f6cf017ff63",
   "metadata": {},
   "outputs": [
    {
     "data": {
      "text/html": [
       "<table style=\"border: 2px solid white;\">\n",
       "<tr>\n",
       "<td style=\"vertical-align: top; border: 0px solid white\">\n",
       "<h3 style=\"text-align: left;\">Client</h3>\n",
       "<ul style=\"text-align: left; list-style: none; margin: 0; padding: 0;\">\n",
       "  <li><b>Scheduler: </b>tcp://127.0.0.1:38855</li>\n",
       "  <li><b>Dashboard: </b><a href='/user/nmetherall/proxy/8787/status' target='_blank'>/user/nmetherall/proxy/8787/status</a></li>\n",
       "</ul>\n",
       "</td>\n",
       "<td style=\"vertical-align: top; border: 0px solid white\">\n",
       "<h3 style=\"text-align: left;\">Cluster</h3>\n",
       "<ul style=\"text-align: left; list-style:none; margin: 0; padding: 0;\">\n",
       "  <li><b>Workers: </b>1</li>\n",
       "  <li><b>Cores: </b>2</li>\n",
       "  <li><b>Memory: </b>13.11 GB</li>\n",
       "</ul>\n",
       "</td>\n",
       "</tr>\n",
       "</table>"
      ],
      "text/plain": [
       "<Client: 'tcp://127.0.0.1:38855' processes=1 threads=2, memory=13.11 GB>"
      ]
     },
     "metadata": {},
     "output_type": "display_data"
    }
   ],
   "source": [
    "%matplotlib inline\n",
    "\n",
    "import datacube\n",
    "import xarray as xr\n",
    "import pandas as pd\n",
    "import numpy as np\n",
    "import matplotlib.pyplot as plt\n",
    "\n",
    "import sys\n",
    "sys.path.insert(1, '../Tools/')\n",
    "from dea_tools.datahandling import load_ard, mostcommon_crs\n",
    "from dea_tools.plotting import rgb, display_map\n",
    "from dea_tools.bandindices import calculate_indices\n",
    "from dea_tools.spatial import subpixel_contours\n",
    "from dea_tools.coastal import tidal_tag\n",
    "from dea_tools.dask import create_local_dask_cluster\n",
    "\n",
    "# Create local dask cluster to improve data load time\n",
    "client = create_local_dask_cluster(return_client=True)"
   ]
  },
  {
   "cell_type": "markdown",
   "id": "3ee99d0e-4d87-4adc-94b5-61e4710b4117",
   "metadata": {},
   "source": [
    "The next step would usually involve connecting the Open Data Cube - however, in a Microsoft Planetary Computer, this step is not necessary.  "
   ]
  },
  {
   "cell_type": "code",
   "execution_count": 3,
   "id": "e0bfd080-19fc-41c1-965e-22e80eaadc42",
   "metadata": {},
   "outputs": [],
   "source": [
    "# dc = datacube.Datacube(app='Coastal_erosion')"
   ]
  },
  {
   "cell_type": "markdown",
   "id": "7325b362-878d-457f-89b2-ddbc20927bfc",
   "metadata": {},
   "source": [
    "To ensure that the tidal modelling part of this analysis works correctly, please make sure the centre of the study area is located over water when setting lat_range and lon_range."
   ]
  },
  {
   "cell_type": "markdown",
   "id": "be5fbef9-1775-44cc-bb8b-116864dee8c0",
   "metadata": {},
   "source": [
    "<h4>STEP 2 - Set up parameters</h4>"
   ]
  },
  {
   "cell_type": "markdown",
   "id": "54d4c2f3-a970-4a75-bf65-84a580aa78af",
   "metadata": {},
   "source": [
    "The location, I have selected for this is Wotje Atoll in RMI. We can easily change the location to another case study by selecting a adjusting the lat and lon_range parameters. "
   ]
  },
  {
   "cell_type": "code",
   "execution_count": 4,
   "id": "8f9b7204-7e36-4dc7-98f6-c9c69e37417c",
   "metadata": {},
   "outputs": [],
   "source": [
    "lat_range = (9.376, 9.571)\n",
    "lon_range = (170.114, 170.278)\n",
    "time_range = ('1990', '2020')\n",
    "time_step = '1Y'\n",
    "tide_range = (0.25, 0.75)"
   ]
  },
  {
   "cell_type": "markdown",
   "id": "d927c3bd-4618-48d8-9894-4447d29dd4a0",
   "metadata": {},
   "source": [
    "<h4>Display case study site</h4>"
   ]
  },
  {
   "cell_type": "code",
   "execution_count": 6,
   "id": "9c5929e7-203a-48fa-809d-6263f20b0f51",
   "metadata": {},
   "outputs": [
    {
     "data": {
      "text/html": [
       "<div style=\"width:100%;\"><div style=\"position:relative;width:100%;height:0;padding-bottom:60%;\"><span style=\"color:#565656\">Make this Notebook Trusted to load map: File -> Trust Notebook</span><iframe src=\"about:blank\" style=\"position:absolute;width:100%;height:100%;left:0;top:0;border:none !important;\" data-html=%3C%21DOCTYPE%20html%3E%0A%3Chead%3E%20%20%20%20%0A%20%20%20%20%3Cmeta%20http-equiv%3D%22content-type%22%20content%3D%22text/html%3B%20charset%3DUTF-8%22%20/%3E%0A%20%20%20%20%0A%20%20%20%20%20%20%20%20%3Cscript%3E%0A%20%20%20%20%20%20%20%20%20%20%20%20L_NO_TOUCH%20%3D%20false%3B%0A%20%20%20%20%20%20%20%20%20%20%20%20L_DISABLE_3D%20%3D%20false%3B%0A%20%20%20%20%20%20%20%20%3C/script%3E%0A%20%20%20%20%0A%20%20%20%20%3Cstyle%3Ehtml%2C%20body%20%7Bwidth%3A%20100%25%3Bheight%3A%20100%25%3Bmargin%3A%200%3Bpadding%3A%200%3B%7D%3C/style%3E%0A%20%20%20%20%3Cstyle%3E%23map%20%7Bposition%3Aabsolute%3Btop%3A0%3Bbottom%3A0%3Bright%3A0%3Bleft%3A0%3B%7D%3C/style%3E%0A%20%20%20%20%3Cscript%20src%3D%22https%3A//cdn.jsdelivr.net/npm/leaflet%401.6.0/dist/leaflet.js%22%3E%3C/script%3E%0A%20%20%20%20%3Cscript%20src%3D%22https%3A//code.jquery.com/jquery-1.12.4.min.js%22%3E%3C/script%3E%0A%20%20%20%20%3Cscript%20src%3D%22https%3A//maxcdn.bootstrapcdn.com/bootstrap/3.2.0/js/bootstrap.min.js%22%3E%3C/script%3E%0A%20%20%20%20%3Cscript%20src%3D%22https%3A//cdnjs.cloudflare.com/ajax/libs/Leaflet.awesome-markers/2.0.2/leaflet.awesome-markers.js%22%3E%3C/script%3E%0A%20%20%20%20%3Clink%20rel%3D%22stylesheet%22%20href%3D%22https%3A//cdn.jsdelivr.net/npm/leaflet%401.6.0/dist/leaflet.css%22/%3E%0A%20%20%20%20%3Clink%20rel%3D%22stylesheet%22%20href%3D%22https%3A//maxcdn.bootstrapcdn.com/bootstrap/3.2.0/css/bootstrap.min.css%22/%3E%0A%20%20%20%20%3Clink%20rel%3D%22stylesheet%22%20href%3D%22https%3A//maxcdn.bootstrapcdn.com/bootstrap/3.2.0/css/bootstrap-theme.min.css%22/%3E%0A%20%20%20%20%3Clink%20rel%3D%22stylesheet%22%20href%3D%22https%3A//maxcdn.bootstrapcdn.com/font-awesome/4.6.3/css/font-awesome.min.css%22/%3E%0A%20%20%20%20%3Clink%20rel%3D%22stylesheet%22%20href%3D%22https%3A//cdnjs.cloudflare.com/ajax/libs/Leaflet.awesome-markers/2.0.2/leaflet.awesome-markers.css%22/%3E%0A%20%20%20%20%3Clink%20rel%3D%22stylesheet%22%20href%3D%22https%3A//cdn.jsdelivr.net/gh/python-visualization/folium/folium/templates/leaflet.awesome.rotate.min.css%22/%3E%0A%20%20%20%20%0A%20%20%20%20%20%20%20%20%20%20%20%20%3Cmeta%20name%3D%22viewport%22%20content%3D%22width%3Ddevice-width%2C%0A%20%20%20%20%20%20%20%20%20%20%20%20%20%20%20%20initial-scale%3D1.0%2C%20maximum-scale%3D1.0%2C%20user-scalable%3Dno%22%20/%3E%0A%20%20%20%20%20%20%20%20%20%20%20%20%3Cstyle%3E%0A%20%20%20%20%20%20%20%20%20%20%20%20%20%20%20%20%23map_5c7a926b250844b5b6c5b89088ede13e%20%7B%0A%20%20%20%20%20%20%20%20%20%20%20%20%20%20%20%20%20%20%20%20position%3A%20relative%3B%0A%20%20%20%20%20%20%20%20%20%20%20%20%20%20%20%20%20%20%20%20width%3A%20100.0%25%3B%0A%20%20%20%20%20%20%20%20%20%20%20%20%20%20%20%20%20%20%20%20height%3A%20100.0%25%3B%0A%20%20%20%20%20%20%20%20%20%20%20%20%20%20%20%20%20%20%20%20left%3A%200.0%25%3B%0A%20%20%20%20%20%20%20%20%20%20%20%20%20%20%20%20%20%20%20%20top%3A%200.0%25%3B%0A%20%20%20%20%20%20%20%20%20%20%20%20%20%20%20%20%7D%0A%20%20%20%20%20%20%20%20%20%20%20%20%3C/style%3E%0A%20%20%20%20%20%20%20%20%0A%3C/head%3E%0A%3Cbody%3E%20%20%20%20%0A%20%20%20%20%0A%20%20%20%20%20%20%20%20%20%20%20%20%3Cdiv%20class%3D%22folium-map%22%20id%3D%22map_5c7a926b250844b5b6c5b89088ede13e%22%20%3E%3C/div%3E%0A%20%20%20%20%20%20%20%20%0A%3C/body%3E%0A%3Cscript%3E%20%20%20%20%0A%20%20%20%20%0A%20%20%20%20%20%20%20%20%20%20%20%20var%20map_5c7a926b250844b5b6c5b89088ede13e%20%3D%20L.map%28%0A%20%20%20%20%20%20%20%20%20%20%20%20%20%20%20%20%22map_5c7a926b250844b5b6c5b89088ede13e%22%2C%0A%20%20%20%20%20%20%20%20%20%20%20%20%20%20%20%20%7B%0A%20%20%20%20%20%20%20%20%20%20%20%20%20%20%20%20%20%20%20%20center%3A%20%5B9.4735%2C%20170.196%5D%2C%0A%20%20%20%20%20%20%20%20%20%20%20%20%20%20%20%20%20%20%20%20crs%3A%20L.CRS.EPSG3857%2C%0A%20%20%20%20%20%20%20%20%20%20%20%20%20%20%20%20%20%20%20%20zoom%3A%2011%2C%0A%20%20%20%20%20%20%20%20%20%20%20%20%20%20%20%20%20%20%20%20zoomControl%3A%20true%2C%0A%20%20%20%20%20%20%20%20%20%20%20%20%20%20%20%20%20%20%20%20preferCanvas%3A%20false%2C%0A%20%20%20%20%20%20%20%20%20%20%20%20%20%20%20%20%7D%0A%20%20%20%20%20%20%20%20%20%20%20%20%29%3B%0A%0A%20%20%20%20%20%20%20%20%20%20%20%20%0A%0A%20%20%20%20%20%20%20%20%0A%20%20%20%20%0A%20%20%20%20%20%20%20%20%20%20%20%20var%20tile_layer_b6a98cb5587849ffa44b0b917a3e8611%20%3D%20L.tileLayer%28%0A%20%20%20%20%20%20%20%20%20%20%20%20%20%20%20%20%22http%3A//mt1.google.com/vt/lyrs%3Dy%5Cu0026z%3D%7Bz%7D%5Cu0026x%3D%7Bx%7D%5Cu0026y%3D%7By%7D%22%2C%0A%20%20%20%20%20%20%20%20%20%20%20%20%20%20%20%20%7B%22attribution%22%3A%20%22Google%22%2C%20%22detectRetina%22%3A%20false%2C%20%22maxNativeZoom%22%3A%2018%2C%20%22maxZoom%22%3A%2018%2C%20%22minZoom%22%3A%200%2C%20%22noWrap%22%3A%20false%2C%20%22opacity%22%3A%201%2C%20%22subdomains%22%3A%20%22abc%22%2C%20%22tms%22%3A%20false%7D%0A%20%20%20%20%20%20%20%20%20%20%20%20%29.addTo%28map_5c7a926b250844b5b6c5b89088ede13e%29%3B%0A%20%20%20%20%20%20%20%20%0A%20%20%20%20%0A%20%20%20%20%20%20%20%20%20%20%20%20var%20poly_line_47171b547ffc47a2ae1fb8a3455ebd8c%20%3D%20L.polyline%28%0A%20%20%20%20%20%20%20%20%20%20%20%20%20%20%20%20%5B%5B9.376%2C%20170.114%5D%2C%20%5B9.376%2C%20170.278%5D%2C%20%5B9.571%2C%20170.278%5D%2C%20%5B9.571%2C%20170.114%5D%2C%20%5B9.376%2C%20170.114%5D%5D%2C%0A%20%20%20%20%20%20%20%20%20%20%20%20%20%20%20%20%7B%22bubblingMouseEvents%22%3A%20true%2C%20%22color%22%3A%20%22red%22%2C%20%22dashArray%22%3A%20null%2C%20%22dashOffset%22%3A%20null%2C%20%22fill%22%3A%20false%2C%20%22fillColor%22%3A%20%22red%22%2C%20%22fillOpacity%22%3A%200.2%2C%20%22fillRule%22%3A%20%22evenodd%22%2C%20%22lineCap%22%3A%20%22round%22%2C%20%22lineJoin%22%3A%20%22round%22%2C%20%22noClip%22%3A%20false%2C%20%22opacity%22%3A%200.8%2C%20%22smoothFactor%22%3A%201.0%2C%20%22stroke%22%3A%20true%2C%20%22weight%22%3A%203%7D%0A%20%20%20%20%20%20%20%20%20%20%20%20%29.addTo%28map_5c7a926b250844b5b6c5b89088ede13e%29%3B%0A%20%20%20%20%20%20%20%20%0A%20%20%20%20%0A%20%20%20%20%20%20%20%20%20%20%20%20%20%20%20%20var%20lat_lng_popup_3473a546ae0b40e2b9680bf402d2a308%20%3D%20L.popup%28%29%3B%0A%20%20%20%20%20%20%20%20%20%20%20%20%20%20%20%20function%20latLngPop%28e%29%20%7B%0A%20%20%20%20%20%20%20%20%20%20%20%20%20%20%20%20%20%20%20%20lat_lng_popup_3473a546ae0b40e2b9680bf402d2a308%0A%20%20%20%20%20%20%20%20%20%20%20%20%20%20%20%20%20%20%20%20%20%20%20%20.setLatLng%28e.latlng%29%0A%20%20%20%20%20%20%20%20%20%20%20%20%20%20%20%20%20%20%20%20%20%20%20%20.setContent%28%22Latitude%3A%20%22%20%2B%20e.latlng.lat.toFixed%284%29%20%2B%0A%20%20%20%20%20%20%20%20%20%20%20%20%20%20%20%20%20%20%20%20%20%20%20%20%20%20%20%20%20%20%20%20%20%20%20%20%22%3Cbr%3ELongitude%3A%20%22%20%2B%20e.latlng.lng.toFixed%284%29%29%0A%20%20%20%20%20%20%20%20%20%20%20%20%20%20%20%20%20%20%20%20%20%20%20%20.openOn%28map_5c7a926b250844b5b6c5b89088ede13e%29%3B%0A%20%20%20%20%20%20%20%20%20%20%20%20%20%20%20%20%20%20%20%20%7D%0A%20%20%20%20%20%20%20%20%20%20%20%20%20%20%20%20map_5c7a926b250844b5b6c5b89088ede13e.on%28%27click%27%2C%20latLngPop%29%3B%0A%20%20%20%20%20%20%20%20%20%20%20%20%0A%3C/script%3E onload=\"this.contentDocument.open();this.contentDocument.write(    decodeURIComponent(this.getAttribute('data-html')));this.contentDocument.close();\" allowfullscreen webkitallowfullscreen mozallowfullscreen></iframe></div></div>"
      ],
      "text/plain": [
       "<folium.folium.Map at 0x7fdf8c186640>"
      ]
     },
     "execution_count": 6,
     "metadata": {},
     "output_type": "execute_result"
    }
   ],
   "source": [
    "display_map(x=lon_range, y=lat_range)\n"
   ]
  },
  {
   "cell_type": "markdown",
   "id": "ebde303d-79c1-45e4-ba8d-7587c18b489d",
   "metadata": {},
   "source": [
    "<h4>STEP 3 - Load cloud-masked Landsat data</h4>\n",
    "The first step in this analysis is to load in Landsat data. The load_ard function loads in data from the Landsat 5, 7 and 8 satellites for the area and time included in lat_range, lon_range and time_range. The function will also automatically mask out clouds from the dataset, allowing us to focus on pixels that contain useful data:"
   ]
  },
  {
   "cell_type": "markdown",
   "id": "f7d0e524-0ecc-42f0-958b-3c8eb60fbf09",
   "metadata": {},
   "source": [
    "Note - that we are not able to follow this step outside of the datacube environment:"
   ]
  },
  {
   "cell_type": "code",
   "execution_count": 7,
   "id": "e2de4f8a-ea74-4138-b5ef-e87282bb76d9",
   "metadata": {},
   "outputs": [
    {
     "ename": "NameError",
     "evalue": "name 'dc' is not defined",
     "output_type": "error",
     "traceback": [
      "\u001b[0;31m---------------------------------------------------------------------------\u001b[0m",
      "\u001b[0;31mNameError\u001b[0m                                 Traceback (most recent call last)",
      "\u001b[0;32m/tmp/ipykernel_128/993325070.py\u001b[0m in \u001b[0;36m<module>\u001b[0;34m\u001b[0m\n\u001b[1;32m     10\u001b[0m \u001b[0;34m\u001b[0m\u001b[0m\n\u001b[1;32m     11\u001b[0m \u001b[0;31m# Identify the most common projection system in the input query\u001b[0m\u001b[0;34m\u001b[0m\u001b[0;34m\u001b[0m\u001b[0;34m\u001b[0m\u001b[0m\n\u001b[0;32m---> 12\u001b[0;31m \u001b[0moutput_crs\u001b[0m \u001b[0;34m=\u001b[0m \u001b[0mmostcommon_crs\u001b[0m\u001b[0;34m(\u001b[0m\u001b[0mdc\u001b[0m\u001b[0;34m=\u001b[0m\u001b[0mdc\u001b[0m\u001b[0;34m,\u001b[0m \u001b[0mproduct\u001b[0m\u001b[0;34m=\u001b[0m\u001b[0;34m'ga_ls5t_ard_3'\u001b[0m\u001b[0;34m,\u001b[0m \u001b[0mquery\u001b[0m\u001b[0;34m=\u001b[0m\u001b[0mquery\u001b[0m\u001b[0;34m)\u001b[0m\u001b[0;34m\u001b[0m\u001b[0;34m\u001b[0m\u001b[0m\n\u001b[0m\u001b[1;32m     13\u001b[0m \u001b[0;34m\u001b[0m\u001b[0m\n\u001b[1;32m     14\u001b[0m \u001b[0;31m# Load available data from all three Landsat satellites\u001b[0m\u001b[0;34m\u001b[0m\u001b[0;34m\u001b[0m\u001b[0;34m\u001b[0m\u001b[0m\n",
      "\u001b[0;31mNameError\u001b[0m: name 'dc' is not defined"
     ]
    }
   ],
   "source": [
    "# Create the 'query' dictionary object, which contains the longitudes,\n",
    "# latitudes and time provided above\n",
    "query = {\n",
    "    'y': lat_range,\n",
    "    'x': lon_range,\n",
    "    'time': time_range,\n",
    "    'measurements': ['nbart_red', 'nbart_green', 'nbart_blue', 'nbart_swir_1'],\n",
    "    'resolution': (-30, 30),\n",
    "}\n",
    "\n",
    "# Identify the most common projection system in the input query\n",
    "output_crs = mostcommon_crs(dc=dc, product='ga_ls5t_ard_3', query=query)\n",
    "\n",
    "# Load available data from all three Landsat satellites\n",
    "landsat_ds = load_ard(dc=dc,\n",
    "                      products=['ga_ls5t_ard_3',\n",
    "                                'ga_ls7e_ard_3',\n",
    "                                'ga_ls8c_ard_3'],\n",
    "                      output_crs=output_crs,\n",
    "                      align=(15, 15),\n",
    "                      group_by='solar_day',\n",
    "                      dask_chunks={},\n",
    "                      **query)\n"
   ]
  },
  {
   "cell_type": "code",
   "execution_count": null,
   "id": "b63b5f23-9cd6-49eb-852b-22822ab40f41",
   "metadata": {},
   "outputs": [],
   "source": []
  }
 ],
 "metadata": {
  "kernelspec": {
   "display_name": "Python 3 (ipykernel)",
   "language": "python",
   "name": "python3"
  },
  "language_info": {
   "codemirror_mode": {
    "name": "ipython",
    "version": 3
   },
   "file_extension": ".py",
   "mimetype": "text/x-python",
   "name": "python",
   "nbconvert_exporter": "python",
   "pygments_lexer": "ipython3",
   "version": "3.8.10"
  }
 },
 "nbformat": 4,
 "nbformat_minor": 5
}
